{
 "cells": [
  {
   "cell_type": "markdown",
   "metadata": {},
   "source": [
    "# Object-Oriented-Programming (OOP)"
   ]
  },
  {
   "cell_type": "markdown",
   "metadata": {},
   "source": [
    "## Tasks Today:\n",
    "\n",
    "   \n",
    "\n",
    "1) <b>Creating a Class (Initializing/Declaring)</b> <br>\n",
    "2) <b>Using a Class (Instantiating)</b> <br>\n",
    " &nbsp;&nbsp;&nbsp;&nbsp; a) Creating One Instance <br>\n",
    " &nbsp;&nbsp;&nbsp;&nbsp; b) Creating Multiple Instances <br>\n",
    " &nbsp;&nbsp;&nbsp;&nbsp; c) In-Class Exercise #1 - Create a Class 'Car' and instantiate three different makes of cars <br>\n",
    "3) <b>The \\__init\\__() Method</b> <br>\n",
    " &nbsp;&nbsp;&nbsp;&nbsp; a) The 'self' Attribute <br>\n",
    "4) <b>Class Attributes</b> <br>\n",
    " &nbsp;&nbsp;&nbsp;&nbsp; a) Initializing Attributes <br>\n",
    " &nbsp;&nbsp;&nbsp;&nbsp; b) Setting an Attribute Outside of the \\__init\\__() Method <br>\n",
    " &nbsp;&nbsp;&nbsp;&nbsp; c) Setting Defaults for Attributes <br>\n",
    " &nbsp;&nbsp;&nbsp;&nbsp; d) Accessing Class Attributes <br>\n",
    " &nbsp;&nbsp;&nbsp;&nbsp; e) Changing Class Attributes <br>\n",
    " &nbsp;&nbsp;&nbsp;&nbsp; f) In-Class Exercise #2 - Add a color and wheels attribute to your 'Car' class <br>\n",
    "5) <b>Class Methods</b> <br>\n",
    " &nbsp;&nbsp;&nbsp;&nbsp; a) Creating <br>\n",
    " &nbsp;&nbsp;&nbsp;&nbsp; b) Calling <br>\n",
    " &nbsp;&nbsp;&nbsp;&nbsp; c) Modifying an Attribute's Value Through a Method <br>\n",
    " &nbsp;&nbsp;&nbsp;&nbsp; d) Incrementing an Attribute's Value Through a Method <br>\n",
    " &nbsp;&nbsp;&nbsp;&nbsp; e) In-Class Exercise #3 - Add a method that prints the cars color and wheel number, then call them <br>\n",
    "6) <b>Inheritance</b> <br>\n",
    " &nbsp;&nbsp;&nbsp;&nbsp; a) Syntax for Inheriting from a Parent Class <br>\n",
    " &nbsp;&nbsp;&nbsp;&nbsp; b) The \\__init\\__() Method for a Child Class (super()) <br>\n",
    " &nbsp;&nbsp;&nbsp;&nbsp; c) Defining Attributes and Methods for the Child Class <br>\n",
    " &nbsp;&nbsp;&nbsp;&nbsp; d) Method Overriding <br>\n",
    " &nbsp;&nbsp;&nbsp;&nbsp; e) In-Class Exercise #4 - Create a class 'Ford' that inherits from 'Car' class and initialize it as a Blue Ford Explorer with 4 wheels using the super() method <br>\n",
    "7) <b>Classes as Attributes</b> <br>\n",
    "8) <b>Exercises</b> <br>\n",
    " &nbsp;&nbsp;&nbsp;&nbsp; a) Exercise #1 - Turn the shopping cart program from yesterday into an object-oriented program <br>"
   ]
  },
  {
   "cell_type": "markdown",
   "metadata": {},
   "source": [
    "## Creating a Class (Initializing/Declaring)\n",
    "<p>When creating a class, function, or even a variable you are initializing that object. Initializing and Declaring occur at the same time in Python, whereas in lower level languages you have to declare an object before initializing it. This is the first step in the process of using a class.</p>"
   ]
  },
  {
   "cell_type": "code",
   "execution_count": 6,
   "metadata": {},
   "outputs": [],
   "source": [
    "class Car():\n",
    "    wheels = 4\n",
    "    color = 'blue'\n",
    "#     windshield_wipers = 'wee woo wee woo'\n"
   ]
  },
  {
   "cell_type": "markdown",
   "metadata": {},
   "source": [
    "## Using a Class (Instantiating)\n",
    "<p>The process of creating a class is called <i>Instantiating</i>. Each time you create a variable of that type of class, it is referred to as an <i>Instance</i> of that class. This is the second step in the process of using a class.</p>"
   ]
  },
  {
   "cell_type": "markdown",
   "metadata": {},
   "source": [
    "##### Creating One Instance"
   ]
  },
  {
   "cell_type": "code",
   "execution_count": 14,
   "metadata": {},
   "outputs": [
    {
     "name": "stdout",
     "output_type": "stream",
     "text": [
      "blue\n",
      "wee woo wee woo\n"
     ]
    }
   ],
   "source": [
    "ford = Car()\n",
    "\n",
    "print(ford.color)  # We can call the attribute 'color' inside the \"Cars\" class that is above. Same if we add\n",
    "                    #other attributes we can call them as it is below\n",
    "\n",
    "# Adding another attibute to the class above on 'Creatoing a Class' section\n",
    "class Car():\n",
    "    wheels = 4\n",
    "    color = 'blue'\n",
    "    windshield_wipers = 'wee woo wee woo'\n",
    "    \n",
    "print(ford.windshield_wipers)\n",
    "    "
   ]
  },
  {
   "cell_type": "markdown",
   "metadata": {},
   "source": [
    "##### Creating Multiple Instances"
   ]
  },
  {
   "cell_type": "code",
   "execution_count": 16,
   "metadata": {},
   "outputs": [
    {
     "name": "stdout",
     "output_type": "stream",
     "text": [
      "<class 'str'>\n",
      "4\n"
     ]
    }
   ],
   "source": [
    "chevrolet = Car()\n",
    "honda = Car()\n",
    "porsche = Car()\n",
    "\n",
    "print(type(porsche.color))\n",
    "print(honda.wheels)"
   ]
  },
  {
   "cell_type": "markdown",
   "metadata": {},
   "source": [
    "##### In-Class Exercise #1 - Create a Class 'Car' and Instantiate three different makes of cars"
   ]
  },
  {
   "cell_type": "code",
   "execution_count": 17,
   "metadata": {},
   "outputs": [
    {
     "name": "stdout",
     "output_type": "stream",
     "text": [
      "Black\n",
      "yes\n",
      "4\n"
     ]
    }
   ],
   "source": [
    "class Cars():\n",
    "    doors = 5\n",
    "    color = 'Black'\n",
    "    wheels = 4\n",
    "    tonage = 4\n",
    "    four_by_four = 'yes'\n",
    "    \n",
    "bmw = Cars()\n",
    "benz = Cars()\n",
    "bentley = Cars()\n",
    "\n",
    "print(bmw.color)\n",
    "print(benz.four_by_four)\n",
    "print(bentley.tonage)\n",
    "    "
   ]
  },
  {
   "cell_type": "markdown",
   "metadata": {},
   "source": [
    "## The \\__init\\__() Method <br>\n",
    "<p>This method is used in almost every created class, and called only once upon the creation of the class instance. This method will initialize all variables needed for the object.</p>"
   ]
  },
  {
   "cell_type": "code",
   "execution_count": 19,
   "metadata": {},
   "outputs": [
    {
     "name": "stdout",
     "output_type": "stream",
     "text": [
      "black\n",
      "blue\n",
      "4\n",
      "6\n"
     ]
    }
   ],
   "source": [
    "class Carss():\n",
    "    engine = '4.7L'  # This is a global variable within the class . Any method inside the class can call upon this\n",
    "                    # variable\n",
    "    def __init__(self, color, wheels):\n",
    "        self.color = color\n",
    "        self.wheels = wheels\n",
    "            \n",
    "mazda = Carss('black', 4)\n",
    "subaru = Carss('blue', 6)\n",
    "\n",
    "print(mazda.color)\n",
    "print(subaru.color)\n",
    "print(mazda.wheels)\n",
    "print(subaru.wheels)\n"
   ]
  },
  {
   "cell_type": "markdown",
   "metadata": {},
   "source": [
    "##### The 'self' Attribute <br>\n",
    "<p>This attribute is required to keep track of specific instance's attributes. Without the self attribute, the program would not know how to reference or keep track of an instance's attributes.</p>"
   ]
  },
  {
   "cell_type": "code",
   "execution_count": 45,
   "metadata": {},
   "outputs": [
    {
     "data": {
      "text/plain": [
       "'Why on earth would you not want a rock climbing wall in your house?'"
      ]
     },
     "execution_count": 45,
     "metadata": {},
     "output_type": "execute_result"
    }
   ],
   "source": [
    "# see above\n",
    "\n",
    "#  Also below\n",
    "\n",
    "class House():\n",
    "    \n",
    "    def __init__(self, wall, dishes):\n",
    "        self.wall = wall\n",
    "        self.dishes = dishes\n",
    "        \n",
    "    def washDishes(self):\n",
    "        if self.dishes == 'dirty':\n",
    "            return 'Clean'\n",
    "        \n",
    "    def rockClimbingWall(self):\n",
    "        if self.wall.lower() == 'yes':\n",
    "            return 'rock on, Climber!'\n",
    "        else:\n",
    "            return 'Why on earth would you not want a rock climbing wall in your house?'\n",
    "        \n",
    "ivan_house = House('no', 'dirty')\n",
    "\n",
    "# ivan_house.washDishes()\n",
    "ivan_house.rockClimbingWall()"
   ]
  },
  {
   "cell_type": "code",
   "execution_count": null,
   "metadata": {},
   "outputs": [],
   "source": []
  },
  {
   "cell_type": "markdown",
   "metadata": {},
   "source": [
    "## Class Attributes <br>\n",
    "<p>While variables are inside of a class, they are referred to as attributes and not variables. When someone says 'attribute' you know they're speaking about a class. Attributes can be initialized through the init method, or outside of it.</p>"
   ]
  },
  {
   "cell_type": "markdown",
   "metadata": {},
   "source": [
    "##### Initializing Attributes"
   ]
  },
  {
   "cell_type": "code",
   "execution_count": 20,
   "metadata": {},
   "outputs": [],
   "source": [
    "# see above\n",
    "\n",
    "class Toy():\n",
    "    kind = 'car'   # This is called not a 'global variable' but a 'constant'. Same but differnet terminology\n",
    "    \n",
    "    def __init__(self, rooftop, horn, wheels):\n",
    "        self.rooftop = rooftop    # These are our attributes for our class \n",
    "        self.horn = horn\n",
    "        self.wheels = wheels\n",
    "        \n",
    "tonka_truck = Toy(1, 1, 4)  # 1 rooftop, 1 horn, 4 wheels\n",
    "hotwheels_car = Toy(2, 3, 8)   # 2 rooftops, 3 horns, 8 wheels"
   ]
  },
  {
   "cell_type": "markdown",
   "metadata": {},
   "source": [
    "##### Accessing Class Attributes"
   ]
  },
  {
   "cell_type": "code",
   "execution_count": 21,
   "metadata": {
    "scrolled": true
   },
   "outputs": [
    {
     "data": {
      "text/plain": [
       "8"
      ]
     },
     "execution_count": 21,
     "metadata": {},
     "output_type": "execute_result"
    }
   ],
   "source": [
    "# See Above\n",
    "\n",
    "tonka_truck.rooftop\n",
    "hotwheels_car.wheels"
   ]
  },
  {
   "cell_type": "markdown",
   "metadata": {},
   "source": [
    "##### Setting Defaults for Attributes"
   ]
  },
  {
   "cell_type": "code",
   "execution_count": 22,
   "metadata": {},
   "outputs": [
    {
     "data": {
      "text/plain": [
       "'black'"
      ]
     },
     "execution_count": 22,
     "metadata": {},
     "output_type": "execute_result"
    }
   ],
   "source": [
    "class Car():\n",
    "    engine = '4.7L'\n",
    "    \n",
    "    def __init__(self, wheels):\n",
    "        self.wheels = wheels\n",
    "        self.color = 'black'  # We can default some attributes to a specific or predetermined value\n",
    "        \n",
    "honda = Car(4)  # '4 ' is the number of wheels. We do not have to determine the color since it is predetermined\n",
    "                # when we initialized the attributes above 'color = black'\n",
    "honda.color "
   ]
  },
  {
   "cell_type": "markdown",
   "metadata": {},
   "source": [
    "##### Changing Class Attributes <br>\n",
    "<p>Keep in mind there are global class attributes and then there are attributes only available to each class instance which won't effect other classes.</p>"
   ]
  },
  {
   "cell_type": "code",
   "execution_count": 26,
   "metadata": {},
   "outputs": [
    {
     "name": "stdout",
     "output_type": "stream",
     "text": [
      "Before change: black\n",
      "After the change: white\n",
      "black\n"
     ]
    }
   ],
   "source": [
    "jeep = Car(8)  # Number of wheels for our class Car() above\n",
    "\n",
    "# We are going to change the value of an attribute from our class Car() above. Form 'color = 'black' to \n",
    "# 'color = white'. \n",
    "\n",
    "print(f'Before change: {jeep.color}')\n",
    "      \n",
    "jeep.color = 'white'\n",
    "      \n",
    "print(f'After the change: {jeep.color}')\n",
    "\n",
    "# But if we call another instance from above, the color will still be the same because it was 'called' or \n",
    "# \"instantiated\" above already with the previous attributes 'color = black'\n",
    "\n",
    "print(honda.color)"
   ]
  },
  {
   "cell_type": "code",
   "execution_count": null,
   "metadata": {},
   "outputs": [],
   "source": []
  },
  {
   "cell_type": "markdown",
   "metadata": {},
   "source": [
    "##### In-Class Exercise #2 - Add a doors and seats attribute to your 'Car' class then print out two different instances with different doors and seats"
   ]
  },
  {
   "cell_type": "code",
   "execution_count": 51,
   "metadata": {},
   "outputs": [
    {
     "name": "stdout",
     "output_type": "stream",
     "text": [
      "Honda seats : 2 and honda doors : 2\n",
      "BMW seats : 3 and BMW doors : 6\n"
     ]
    }
   ],
   "source": [
    "class Cars2():\n",
    "    \n",
    "    def __init__(self, seats, doors):\n",
    "        self.seats = seats\n",
    "        self.doors = doors\n",
    "        \n",
    "honda = Cars2(2, 2)\n",
    "bmw = Cars2(3, 6)\n",
    "\n",
    "\n",
    "print(f\"Honda seats : {honda.seats} and honda doors : {honda.doors}\")\n",
    "print(f\"BMW seats : {bmw.seats} and BMW doors : {bmw.doors}\")"
   ]
  },
  {
   "cell_type": "markdown",
   "metadata": {},
   "source": [
    "## Class Methods <br>\n",
    "<p>While inside of a class, functions are referred to as 'methods'. If you hear someone mention methods, they're speaking about classes. Methods are essentially functions, but only callable on the instances of a class.</p>"
   ]
  },
  {
   "cell_type": "markdown",
   "metadata": {},
   "source": [
    "##### Creating"
   ]
  },
  {
   "cell_type": "code",
   "execution_count": 76,
   "metadata": {},
   "outputs": [],
   "source": [
    "class shoppingBag():\n",
    "    \"\"\"\n",
    "        The shopping class will have handles, capacity,\n",
    "        and items to place inside.\n",
    "        \n",
    "        Attributes for the class:\n",
    "        - handles: expected to be an integer\n",
    "        - capacity: expected to be a string OR an intger \n",
    "        - items: expected to be a list\n",
    "    \"\"\"\n",
    "    \n",
    "    def __init__(self, handles, capacity, items):\n",
    "        self.handles = handles\n",
    "        self.capacity = capacity\n",
    "        self.items = items\n",
    "    \n",
    "    # Write a method that shows the items in our ShoppingBag / this is our items list\n",
    "    def showShoppingBag(self):\n",
    "        if False:\n",
    "            print('You have items in your bag!')\n",
    "            for item in self.items:\n",
    "                print(item)\n",
    "        else:\n",
    "            print('Your bag is empty')\n",
    "            \n",
    "    #  Show the capacity if the ShoppingBag - how much room is left\n",
    "    def showCapacity(self):\n",
    "        print(f\"Your capacity is : {self.capacity}\")\n",
    "        \n",
    "    #  Add item(s) to the item list for the ShoppingBag\n",
    "    def addToShoppingBag(self):\n",
    "        products = input('What would you like to add ? ')\n",
    "        self.items.append(products)\n",
    "        \n",
    "    #  Change the capacity of the ShoppingBag\n",
    "    def changeBagCapacity(self, capacity):\n",
    "        self.capacity = capacity\n",
    "        \n",
    "    #  Increse the capacity of the ShoppingBag by a default amount that we set to 10 \n",
    "    def increaseCapacity(self, changed_capacity = 10):\n",
    "        if self.capacity == isinstance(self.capacity, str):\n",
    "            print(\"We can't add that here\")\n",
    "        else:\n",
    "            self.capacity += changed_capacity\n",
    "        "
   ]
  },
  {
   "cell_type": "markdown",
   "metadata": {},
   "source": [
    "##### Calling"
   ]
  },
  {
   "cell_type": "code",
   "execution_count": 77,
   "metadata": {},
   "outputs": [
    {
     "name": "stdout",
     "output_type": "stream",
     "text": [
      "What do you want to do ? add/show/quit show\n",
      "Your bag is empty\n",
      "What do you want to do ? add/show/quit quit\n",
      "Your bag is empty\n",
      "Thank you forshopping!\n"
     ]
    }
   ],
   "source": [
    "# See Above\n",
    "\n",
    "# So far, we created the idea of a ShoppingBag; now we will actually instantiate and MAKE one, and use it!\n",
    "\n",
    "wholeFoods_bag = shoppingBag(2, 10, [])\n",
    "\n",
    "# Create a function to run the ShoppingBag methods on our wholeFoods_bag instance\n",
    "\n",
    "def run():\n",
    "    while True:\n",
    "        response = input('What do you want to do ? add/show/quit ')\n",
    "        \n",
    "        if response.lower() == 'quit':\n",
    "            wholeFoods_bag.showShoppingBag()\n",
    "            print('Thank you forshopping!')\n",
    "            break\n",
    "        elif response.lower() == 'add':\n",
    "            wholeFoods_bag.addToShoppingBag()\n",
    "        elif response.lower() == 'show':\n",
    "            wholeFoods_bag.showShoppingBag()\n",
    "        else:\n",
    "            print('Try another command')\n",
    "                  \n",
    "run()"
   ]
  },
  {
   "cell_type": "markdown",
   "metadata": {},
   "source": [
    "##### Modifying an Attribute's Value Through a Method"
   ]
  },
  {
   "cell_type": "code",
   "execution_count": 78,
   "metadata": {},
   "outputs": [
    {
     "name": "stdout",
     "output_type": "stream",
     "text": [
      "Your capacity is : 10\n",
      "Capacity AFTER the change...\n",
      "Your capacity is : 40\n"
     ]
    }
   ],
   "source": [
    "# Show the capacity\n",
    "wholeFoods_bag.showCapacity()\n",
    "print('Capacity AFTER the change...')\n",
    "wholeFoods_bag.changeBagCapacity(40)\n",
    "wholeFoods_bag.showCapacity()"
   ]
  },
  {
   "cell_type": "markdown",
   "metadata": {},
   "source": [
    "##### Incrementing an Attribute's Value Through a Method"
   ]
  },
  {
   "cell_type": "code",
   "execution_count": 79,
   "metadata": {},
   "outputs": [
    {
     "name": "stdout",
     "output_type": "stream",
     "text": [
      "Your capacity is : 40\n",
      "After Increase: \n",
      "Your capacity is : 50\n"
     ]
    }
   ],
   "source": [
    "wholeFoods_bag.showCapacity()\n",
    "print('After Increase: ')\n",
    "wholeFoods_bag.increaseCapacity()\n",
    "wholeFoods_bag.showCapacity()"
   ]
  },
  {
   "cell_type": "markdown",
   "metadata": {},
   "source": [
    "##### In-Class Exercise #3 - Add a method that takes in three parameters of year, doors and seats and prints out a formatted print statement with make, model, year, seats, and doors"
   ]
  },
  {
   "cell_type": "code",
   "execution_count": 90,
   "metadata": {},
   "outputs": [
    {
     "name": "stdout",
     "output_type": "stream",
     "text": [
      "This car is from Ford and is a Explorer and has 4 doors and 5 seats\n"
     ]
    }
   ],
   "source": [
    "# Create class with 2 paramters inside of the __init__ which are make and model\n",
    "\n",
    "class Cars4():\n",
    "    \"\"\"\n",
    "        This Class takes in 2 parameters from the user as str() when instantiated and\n",
    "        prints out the make and model with a determined yearwhe the method carFeatures is called\n",
    "    \"\"\"\n",
    "    \n",
    "    def __init__(self, make, model):\n",
    "        self.make = make\n",
    "        self.model = model\n",
    "        \n",
    "# Inside of the Car class create a method that has 4 parameter in total (self,year,door,seats)\n",
    "    def carFeatures(self, year, door = '4', seats = '5'):\n",
    "        print(f'This car is from {self.make} and is a {self.model} and has {door} doors and {seats} seats')\n",
    "        \n",
    "\n",
    "ford_explorer = Cars4('Ford', 'Explorer')\n",
    "\n",
    "ford_explorer.carFeatures(2019)  #Since we are calling the especific method carFeatures, we only need \n",
    "                                # one parameter that is 'year'. The other two parameters are set to a \n",
    "                                # default value. 'self' will bring the other parameters from __init__ \n",
    "                                # to print the result\n",
    "            \n",
    "# I can also omit the 'print' statement above inside the carFeatures() method and instead do return, as :\n",
    "#  return ford_explorer.carFeatures(2019)\n",
    "# Then ,furthermore, I add the print() when calling 'ford_explorer.carFeatures(2019' as \n",
    "# print(ford_explorer.carFeatures(2019)) and I would get the same result. \n",
    "            \n",
    "            \n",
    "            \n",
    "            \n",
    "# print(car1)\n",
    "        \n",
    "# Output: This car is from 2019 and is a Ford Expolorer and has 4 doors and 5 seats\n",
    "\n"
   ]
  },
  {
   "cell_type": "markdown",
   "metadata": {},
   "source": [
    "## Inheritance <br>\n",
    "<p>You can create a child-parent relationship between two classes by using inheritance. What this allows you to do is have overriding methods, but also inherit traits from the parent class. Think of it as an actual parent and child, the child will inherit the parent's genes, as will the classes in OOP</p>"
   ]
  },
  {
   "cell_type": "markdown",
   "metadata": {},
   "source": [
    "##### Syntax for Inheriting from a Parent Class"
   ]
  },
  {
   "cell_type": "code",
   "execution_count": 96,
   "metadata": {},
   "outputs": [
    {
     "name": "stdout",
     "output_type": "stream",
     "text": [
      "Bark\n",
      "Make some generic sound\n",
      "None\n",
      "9.8\n",
      "15\n"
     ]
    }
   ],
   "source": [
    "#  Create a parent class and call it Animal\n",
    "class Animal():\n",
    "    acceleration = 9.8\n",
    "    \n",
    "    def __init__(self, name, species, legs = 4):\n",
    "        self.name = name\n",
    "        self.species = species\n",
    "        self.legs = legs\n",
    "        \n",
    "    # Generic Parent Method - This is not overriding anything\n",
    "    def makeSound(self):\n",
    "        print('Make some generic sound')\n",
    "        \n",
    "# Now we are making our child class .... Dog\n",
    "class Dog(Animal):\n",
    "    speed = 15\n",
    "    \n",
    "    def printInfo(self):\n",
    "        print(f\"The Dog has {self.speed}mph in speed and {self.acceleration}\")\n",
    "        \n",
    "# Creation of our Grand-Child Class -- Mutt\n",
    "class Mutt(Dog):\n",
    "    color = 'Tan'\n",
    "    \n",
    "    # Override the ANIMAL Class - using the Dog Class to override the __init__ form ANIMAL Class\n",
    "    def __init__(self, name, species, eye_color, legs = 4):\n",
    "        Dog.__init__(self, name, species, legs)\n",
    "        self.eye_color = eye_color\n",
    "        \n",
    "    # Override the makeSound method (which is coming from ANIMAL Class)\n",
    "    def makeSound(self):\n",
    "        noise = 'Bark'\n",
    "        return noise\n",
    "\n",
    "    \n",
    "# We are instatiating it below \n",
    "\n",
    "lassie = Dog('Lassie', 'Dog') # We are passing 'name' and 'species' to the Dog Class \n",
    "                              # REMEMBER: Dog Class will be asking for those two parameters because Dog Class\n",
    "                              # is INHERITING form the ANIMAL CLASS and Animal Class takes in TWO parameters\n",
    "                              # 'name' and 'species', so Dog Class will be asking for those two\n",
    "\n",
    "basic_animal = Animal('Generic Animal Name', 'Generic Animal Species')\n",
    "buster = Mutt('Buster', 'Mut', 'Brown')\n",
    "\n",
    "print(buster.makeSound()) #It takes the method from 'Mutt Class' as defined for the variable 'buster'\n",
    "\n",
    "print(lassie.makeSound()) #It takes the 'makeSound' method from the 'Animal Class' beacuse the variable 'lassie'\n",
    "                          #was instatiated with the class 'Dog Class', and 'Dog Class' Inherits methods from the \n",
    "                          #'Animal Class'\n",
    "        \n",
    "print(buster.acceleration) #Althoug we are calling the 'Mutt Class' under the variable 'buster', this grand-child \n",
    "                            #class is oinheriting mehtods and variables from the grand-parent class ANIMAL, in \n",
    "                            #in this case the constant variable 'acceleration' all the way up there. \n",
    "        \n",
    "#print(basic_animal.speed) #This will create an error beacause 'Animal Class' does not contain an attribute called\n",
    "                          # 'speed'\n",
    "    \n",
    "print(buster.speed) #It is using the attribute from the 'Dog Class' that was inherited in the 'Class Mutt'"
   ]
  },
  {
   "cell_type": "markdown",
   "metadata": {},
   "source": [
    "##### The \\__init\\__() Method for a Child Class - super()"
   ]
  },
  {
   "cell_type": "code",
   "execution_count": 99,
   "metadata": {
    "scrolled": true
   },
   "outputs": [
    {
     "name": "stdout",
     "output_type": "stream",
     "text": [
      "Bark\n",
      "Make some generic sound\n",
      "None\n",
      "9.8\n",
      "15\n"
     ]
    }
   ],
   "source": [
    "class Puppy(Dog):\n",
    "    color = 'black and brown'\n",
    "    \n",
    "    # Override the 'Animal Class' __init__ (via Dog Class) NOTE: Dog Class is inheriting the __init__ form Animal\n",
    "    # Class\n",
    "    def __init__(self, name, species, eye_color, legs = 4):\n",
    "        super().__init__(name, species, legs)    ####NOTE: super() goes all the way to the top-tier \n",
    "        self.eye_color = eye_color               #Grand-Father class ANIMAL, and overrides it . In the \n",
    "                                                 #'MuttClass' above in 'Syntax for Inheriting from a Parent Class'\n",
    "                                                 #we used 'Dog.__init__' but it overrides the 'Dog Class' that\n",
    "                                                 #'Mutt Class' inherited. Super() overrides all of them all the way\n",
    "                                                 #to the top, or ultimate parent\n",
    "    #Override the makeSound method\n",
    "    def makeSound(self):\n",
    "        noise = 'Bark'\n",
    "        return noise\n",
    "    \n",
    "# We are instatiating it below \n",
    "\n",
    "lassie = Dog('Lassie', 'Dog') # We are passing 'name' and 'species' to the Dog Class \n",
    "                              # REMEMBER: Dog Class will be asking for those two parameters because Dog Class\n",
    "                              # is INHERITING form the ANIMAL CLASS and Animal Class takes in TWO parameters\n",
    "                              # 'name' and 'species', so Dog Class will be asking for those two\n",
    "\n",
    "basic_animal = Animal('Generic Animal Name', 'Generic Animal Species')\n",
    "buster = Mutt('Buster', 'Mut', 'Brown')\n",
    "\n",
    "print(buster.makeSound()) #It takes the method from 'Mutt Class' as defined for the variable 'buster'\n",
    "\n",
    "print(lassie.makeSound()) #It takes the 'makeSound' method from the 'Animal Class' beacuse the variable 'lassie'\n",
    "                          #was instatiated with the class 'Dog Class', and 'Dog Class' Inherits methods from the \n",
    "                          #'Animal Class'\n",
    "        \n",
    "print(buster.acceleration) #Althoug we are calling the 'Mutt Class' under the variable 'buster', this grand-child \n",
    "                            #class is oinheriting mehtods and variables from the grand-parent class ANIMAL, in \n",
    "                            #in this case the constant variable 'acceleration' all the way up there. \n",
    "        \n",
    "#print(basic_animal.speed) #This will create an error beacause 'Animal Class' does not contain an attribute called\n",
    "                          # 'speed'\n",
    "    \n",
    "print(buster.speed) #It is using the attribute from the 'Dog Class' that was inherited in the 'Class Mutt'"
   ]
  },
  {
   "cell_type": "markdown",
   "metadata": {},
   "source": [
    "##### Defining Attributes and Methods for the Child Class"
   ]
  },
  {
   "cell_type": "code",
   "execution_count": null,
   "metadata": {},
   "outputs": [],
   "source": [
    "# See Above"
   ]
  },
  {
   "cell_type": "markdown",
   "metadata": {},
   "source": [
    "##### Method Overriding"
   ]
  },
  {
   "cell_type": "code",
   "execution_count": null,
   "metadata": {},
   "outputs": [],
   "source": [
    "# See Above"
   ]
  },
  {
   "cell_type": "markdown",
   "metadata": {},
   "source": [
    "## Classes as Attributes <br>\n",
    "<p>Classes can also be used as attributes within another class. This is useful in situations where you need to keep variables locally stored, instead of globally stored.</p>"
   ]
  },
  {
   "cell_type": "code",
   "execution_count": 108,
   "metadata": {},
   "outputs": [
    {
     "name": "stdout",
     "output_type": "stream",
     "text": [
      "20\n"
     ]
    },
    {
     "data": {
      "text/plain": [
       "'2019 Tesla Model X 20'"
      ]
     },
     "execution_count": 108,
     "metadata": {},
     "output_type": "execute_result"
    }
   ],
   "source": [
    "class Battery():\n",
    "    volts = 7.8\n",
    "    \n",
    "    def __init__(self, cells):\n",
    "        self.cells = cells\n",
    "        \n",
    "class Car():\n",
    "    def __init__(self, year, make, model, battery):\n",
    "        self.year = year\n",
    "        self.make = make\n",
    "        self.model = model\n",
    "        self.battery = battery\n",
    "        \n",
    "    def printInfo(self):\n",
    "        return f'{self.year} {self.make} {self.model} {self.battery.cells}'\n",
    "        \n",
    "my_battery = Battery(20)\n",
    "\n",
    "tesla = Car(2019, 'Tesla', 'Model X', my_battery)\n",
    "\n",
    "print(tesla.battery.cells)\n",
    "tesla.printInfo()\n"
   ]
  },
  {
   "cell_type": "markdown",
   "metadata": {},
   "source": [
    "# Exercises"
   ]
  },
  {
   "cell_type": "markdown",
   "metadata": {},
   "source": [
    "### Exercise 1 - Turn the shopping cart program from yesterday into an object-oriented program\n",
    "\n",
    "The comments in the cell below are there as a guide for thinking about the problem. However, if you feel a different way is best for you and your own thought process, please do what feels best for you by all means."
   ]
  },
  {
   "cell_type": "code",
   "execution_count": null,
   "metadata": {},
   "outputs": [],
   "source": [
    "# Create a class called cart that retains items and has methods to add, remove, and show\n",
    "\n",
    "import math\n",
    "import os\n",
    "import time\n",
    "\n",
    "class ShoppingCart():\n",
    "\n",
    "    def __init__(self, name, cart_items):\n",
    "        self.name = name\n",
    "        self.cart_items = cart_items\n",
    "    \n",
    "\n",
    "        self.shopping_list_store = {\n",
    "        'Shampoo' : 4.99,                                  \n",
    "        'Toothpaste' : 6.99,   \n",
    "        'Toothbrush' : 2.99,                     \n",
    "        'Handsoap' : 1.99,                       \n",
    "        'Mops' : 6.99,          \n",
    "        'Bleach' : 2.99,           \n",
    "        'Brooms' : 10.99,            \n",
    "        'Rubber Gloves' : 7.99,    \n",
    "        'Lamps' : 3.99,                                  \n",
    "        'Tomatoes' : 1.99,\n",
    "        'Pencils' : 2.99,                    \n",
    "        'Ribeye' : 18.99,\n",
    "        'Markers' : 6.99,                       \n",
    "        'Oj' : 6.99,                \n",
    "        'Eraser' : 1.99,        \n",
    "        'Milk' : 5.99,              \n",
    "        }\n",
    "\n",
    "        self.item_equalizer = {\n",
    "            'b1' : 'Shampoo',\n",
    "            'b2' : 'Toothpaste',\n",
    "            'b3' : 'Toothbrush',\n",
    "            'b4' : 'Handsoap',\n",
    "            'c1' : 'Mops',\n",
    "            'c2' : 'Bleach',\n",
    "            'c3' : 'Brooms',\n",
    "            'c4' : 'Rubber Gloves',\n",
    "            'k1' : 'Lamps',\n",
    "            'k2' : 'Pencils',\n",
    "            'k3' : 'Markers',\n",
    "            'k4' : 'Eraser',\n",
    "            'g1' : 'Tomatoes',\n",
    "            'g2' : 'Ribeye',\n",
    "            'g3' : 'Oj',\n",
    "            'g4' : 'Milk',\n",
    "            }\n",
    "\n",
    "# Show the Items in the bag   \n",
    "    def showItems(self):\n",
    "        os.system('clear')\n",
    "        print('\\n\\n**************** You Have These Items In Your Cart ************************\\n\\n')\n",
    "        x = 1\n",
    "        for y, item in self.cart_items.items():\n",
    "            print(x,'.',y , item)\n",
    "            x += 1\n",
    "        print('\\n\\nSUB-TOTAL : {:.2F}'.format(sum(self.cart_items.values())))\n",
    "        self.add_deleteItems()\n",
    "\n",
    "# Sub-menu to decide what to do\n",
    "    def add_deleteItems(self):\n",
    "        print('\\n\\nWould you like to add (\"add\"), delete (\"del\") items, (\"show\") shopping cart , (\"quit\") to check out or (\"cash\") to check out ?? ')\n",
    "        print('\\n')\n",
    "        user_answer = input('----> ')\n",
    "\n",
    "        if user_answer == 'add':\n",
    "            self.addItems()\n",
    "        elif user_answer == 'del':\n",
    "            self.delItems()\n",
    "        elif user_answer == 'show':\n",
    "            self.showItems()\n",
    "        elif user_answer == 'cash':\n",
    "            self.cashOut()\n",
    "        elif user_answer == 'quit':\n",
    "            self.quitBag()\n",
    "        else:\n",
    "            print('\\n\\nCommand not recognoized\\n\\n')\n",
    "            \n",
    "# Adding Itmes to the bag\n",
    "    def addItems(self):\n",
    "        os.system('clear')\n",
    "        print('\\n')\n",
    "        print('  Bathroom Products                                  Cleaning Supplies')\n",
    "        print('    B1. Shampoo       4.99                             C1. Mops              6.99   ')\n",
    "        print('    B2. Toothpaste    6.99                             C2. Bleach            2.99')\n",
    "        print('    B3. Toothbrush    2.99                             C3. Brooms            10.99')\n",
    "        print('    B4. Handsoap      1.99                             C4. Rubber Gloves     7.99')\n",
    "        print(' ')\n",
    "        print('  School Supplies                                    Groceries')\n",
    "        print('    K1. Lamps         3.99                             G1. Tomatoes          1.99')\n",
    "        print('    K2. Pencils       2.99                             G2. Ribeye            18.99')\n",
    "        print('    K3. Markers       6.99                             G3. Oj                6.99')\n",
    "        print('    K4. Eraser        1.99                             G4. Milk              5.99')\n",
    "        print('\\n')\n",
    "\n",
    "        time.sleep(0.75)\n",
    "        item = input('Which item would you like to add ? ')\n",
    "        it = item.lower()\n",
    "\n",
    "        if it in self.item_equalizer.keys():\n",
    "            x = self.item_equalizer[it]\n",
    "            self.cart_items[x] = self.shopping_list_store[x]\n",
    "            os.system('clear')\n",
    "            time.sleep(.75)\n",
    "            print(f'\\n\\n***You just added \"{x}\" to your cart....***\\n\\n')\n",
    "            time.sleep(0.75)\n",
    "\n",
    "    \n",
    "# Delete Items\n",
    "    def delItems(self):\n",
    "        delete = input('Please enter the item you would like to delete from your list (eg. Shampoo) :')#('Please enter the item you would like to delete from your list (eg. Shampoo) :')\n",
    "        delete = delete.lower()\n",
    "        delete = delete.title()\n",
    "        del self.cart_items[delete]\n",
    "        os.system('clear')\n",
    "        time.sleep(0.75)\n",
    "        print(f'\\n\\n*** You just erased \"{delete}\" to your cart.... ***\\n\\n')\n",
    "        time.sleep(0.75)\n",
    "\n",
    "# Cash Out , Pay and Leave\n",
    "    def cashOut(self):\n",
    "        os.system('clear')\n",
    "        print(f'\\n\\n\\n ****************** We Hope You Had A Great Experience, {name} *********************\\n\\n\\n')\n",
    "        x = 1\n",
    "        for y, item in self.cart_items.items():\n",
    "            print(x,'.',y , item)\n",
    "            x += 1\n",
    "        print('Your total for today is :')\n",
    "        print('TOTAL : {:.2F}'.format(sum(self.cart_items.values())))\n",
    "        time.sleep(1)\n",
    "        print('\\n\\nThank you for shopping with us. We hope yo see you soon!\\n\\n')\n",
    "        time.sleep(1)\n",
    "        quit()\n",
    "\n",
    "    def quitBag(self):\n",
    "        os.system('clear')\n",
    "        if self.cart_items:\n",
    "            print(f'\\n\\n**************** You Left These Items Behind, {name} ************************\\n\\n')\n",
    "            x = 1\n",
    "            for y, item in self.cart_items.items():\n",
    "                print(x,'.',y , item)\n",
    "                x += 1\n",
    "            print('\\n\\nThank you for shopping with us. We hope yo see you soon!\\n\\n')\n",
    "            time.sleep(1)\n",
    "            quit()\n",
    "        else:\n",
    "            print(f'\\n\\n**************You Have No Items In Your Bag, {name}*********************\\n\\n')\n",
    "            print('\\n\\nThank you for shopping with us. We hope yo see you soon!\\n\\n')\n",
    "            time.sleep(1)\n",
    "            quit()\n",
    "\n",
    "\n",
    "# Program Start\n",
    "\n",
    "def run(name):\n",
    "    os.system('clear')\n",
    "    while True:\n",
    "        os.system('clear')\n",
    "        print(f\"\\n\\n*********************** Welcome to Coding Temple Store {name}! *****************************\")\n",
    "        print(' ')\n",
    "        print('  Bathroom Products                                  Cleaning Supplies')\n",
    "        print('    B1. Shampoo       4.99                             C1. Mops              6.99   ')\n",
    "        print('    B2. Toothpaste    6.99                             C2. Bleach            2.99')\n",
    "        print('    B3. Toothbrush    2.99                             C3. Brooms            10.99')\n",
    "        print('    B4. Handsoap      1.99                             C4. Rubber Gloves     7.99')\n",
    "        print(' ')\n",
    "        print('  School Supplies                                    Groceries')\n",
    "        print('    K1. Lamps         3.99                             G1. Tomatoes          1.99')\n",
    "        print('    K2. Pencils       2.99                             G2. Ribeye            18.99')\n",
    "        print('    K3. Markers       6.99                             G3. Oj                6.99')\n",
    "        print('    K4. Eraser        1.99                             G4. Milk              5.99')\n",
    "\n",
    "        print('\\n\\nWhat would you like to do ?')\n",
    "        print(\"Type 'add' - to add or delete items\")\n",
    "        print(\"Type 'show' - to see what's in the bag, del, add items and subtotal\")\n",
    "        print(\"Type 'quit' - to quit , check out and and leave\")\n",
    "        user_input = input('---> ')\n",
    "        user_input = user_input.lower()\n",
    "\n",
    "        if user_input.lower() == 'quit':\n",
    "            new_shopping_bag.quitBag()\n",
    "            # break\n",
    "        elif user_input.lower() == 'add':\n",
    "            new_shopping_bag.addItems()\n",
    "        elif user_input.lower() == 'show':\n",
    "            new_shopping_bag.showItems()\n",
    "        else:\n",
    "            print('\\n\\nCommand not recognized\\n\\n')\n",
    "\n",
    "os.system('clear')\n",
    "name = input('What is your name ? ')\n",
    "\n",
    "new_shopping_bag = ShoppingCart(name, {})\n",
    "\n",
    "run(name)"
   ]
  },
  {
   "cell_type": "markdown",
   "metadata": {},
   "source": [
    "### Exercise 2 - Write a Python class which has two methods get_String and print_String. get_String accept a string from the user and print_String print the string in upper case"
   ]
  },
  {
   "cell_type": "code",
   "execution_count": null,
   "metadata": {},
   "outputs": [],
   "source": [
    "import os\n",
    "\n",
    "class UserInput():\n",
    "\n",
    "    def __init__(self, user_string):\n",
    "        self.user_string = user_string\n",
    "        \n",
    "\n",
    "    def get_String(self):\n",
    "        os.system('clear')\n",
    "\n",
    "        print('\\nPlease enter a string \\n')\n",
    "        self.user_string = str(input(\"---> \"))\n",
    "        self.print_String()\n",
    "\n",
    "        # str_input_output = UserInput(user_string)\n",
    "\n",
    "\n",
    "\n",
    "    def print_String(self):\n",
    "        print(f'The string you typed in is : \\n\\n\"{self.user_string.upper()}\"\\n\\n') \n",
    "        print('\\n')\n",
    "        print('End of Program\\n\\n')\n",
    "        quit()\n",
    "\n",
    "\n",
    "\n",
    "def run():\n",
    "    os.system('clear')\n",
    "    user_string =''\n",
    "    str_input_output = UserInput(user_string)\n",
    "\n",
    "    str_input_output.get_String()\n",
    "    \n",
    "\n",
    "\n",
    "\n",
    "run()"
   ]
  }
 ],
 "metadata": {
  "kernelspec": {
   "display_name": "Python 3 (ipykernel)",
   "language": "python",
   "name": "python3"
  },
  "language_info": {
   "codemirror_mode": {
    "name": "ipython",
    "version": 3
   },
   "file_extension": ".py",
   "mimetype": "text/x-python",
   "name": "python",
   "nbconvert_exporter": "python",
   "pygments_lexer": "ipython3",
   "version": "3.9.12"
  }
 },
 "nbformat": 4,
 "nbformat_minor": 2
}
